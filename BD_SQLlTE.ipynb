{
  "cells": [
    {
      "cell_type": "markdown",
      "metadata": {
        "id": "view-in-github",
        "colab_type": "text"
      },
      "source": [
        "<a href=\"https://colab.research.google.com/github/chaima-mehri/DataScience_TP/blob/main/BD_SQLlTE.ipynb\" target=\"_parent\"><img src=\"https://colab.research.google.com/assets/colab-badge.svg\" alt=\"Open In Colab\"/></a>"
      ]
    },
    {
      "cell_type": "code",
      "execution_count": null,
      "metadata": {
        "id": "8vqqZRdHUg8M"
      },
      "outputs": [],
      "source": [
        "import pandas as pd\n",
        "#lecture de données à partir d'une base de données sql\n",
        "import sqlite3\n",
        "#Connexion à la base et ajout de table et de données\n",
        "#créer une base de données avec SQLite\n",
        "conn=sqlite3.connect('testTP.db')"
      ]
    },
    {
      "cell_type": "code",
      "execution_count": null,
      "metadata": {
        "id": "Wv6kHtcGUg8U"
      },
      "outputs": [],
      "source": [
        "cursor = conn.cursor()\n",
        "cursor.execute('''CREATE TABLE  users\n",
        "               ( id INTEGER PRIMARY KEY , name TEXT, age INTEGER)''')\n",
        "conn.commit()"
      ]
    },
    {
      "cell_type": "code",
      "execution_count": null,
      "metadata": {
        "id": "IOKMv15tUg8V",
        "outputId": "c16222cb-2f45-4d96-8d52-fe6b4db9ea06"
      },
      "outputs": [
        {
          "data": {
            "text/plain": [
              "<sqlite3.Cursor at 0x8f9c0a0>"
            ]
          },
          "execution_count": 5,
          "metadata": {},
          "output_type": "execute_result"
        }
      ],
      "source": [
        "cursor.execute('INSERT INTO users(name, age) VALUES(?, ?)', (\"Akram\", 23))"
      ]
    },
    {
      "cell_type": "code",
      "execution_count": null,
      "metadata": {
        "id": "frQHcHx9Ug8V",
        "outputId": "d7f0deda-cd70-4c69-fce8-62a854088d70"
      },
      "outputs": [
        {
          "data": {
            "text/plain": [
              "<sqlite3.Cursor at 0x8f9c0a0>"
            ]
          },
          "execution_count": 6,
          "metadata": {},
          "output_type": "execute_result"
        }
      ],
      "source": [
        "#Insérer des données par un dictionnaire\n",
        "data = {\"name\" : \"hamdi\", \"age\" : 24}\n",
        "cursor.execute(\"\"\"INSERT INTO users(name, age) VALUES(:name, :age)\"\"\", data)"
      ]
    },
    {
      "cell_type": "code",
      "execution_count": null,
      "metadata": {
        "id": "cGCI8YlGUg8W",
        "outputId": "fc701bdf-2dbd-460b-bdab-7ec322aa5838"
      },
      "outputs": [
        {
          "data": {
            "text/plain": [
              "<sqlite3.Cursor at 0x8f9c650>"
            ]
          },
          "execution_count": 7,
          "metadata": {},
          "output_type": "execute_result"
        }
      ],
      "source": [
        "conn.execute('''insert into users values (101,'Ali ben salah',22)''')"
      ]
    },
    {
      "cell_type": "code",
      "execution_count": null,
      "metadata": {
        "id": "ZZClTQ-AUg8W",
        "outputId": "df34c2c0-5981-4efb-925a-7b5efd939491"
      },
      "outputs": [
        {
          "name": "stdout",
          "output_type": "stream",
          "text": [
            "[(1, 'Akram', 23), (2, 'hamdi', 24), (101, 'Ali ben salah', 22)]\n"
          ]
        }
      ],
      "source": [
        "#Afficher les données\n",
        "cursor.execute('SELECT id, name, age FROM users')\n",
        "rt=cursor.fetchall()\n",
        "print(rt)"
      ]
    },
    {
      "cell_type": "code",
      "execution_count": null,
      "metadata": {
        "id": "dFPggqNpUg8W",
        "outputId": "9d806e1a-af36-4e79-8709-fda5c0e48b6a"
      },
      "outputs": [
        {
          "data": {
            "text/html": [
              "<div>\n",
              "<style scoped>\n",
              "    .dataframe tbody tr th:only-of-type {\n",
              "        vertical-align: middle;\n",
              "    }\n",
              "\n",
              "    .dataframe tbody tr th {\n",
              "        vertical-align: top;\n",
              "    }\n",
              "\n",
              "    .dataframe thead th {\n",
              "        text-align: right;\n",
              "    }\n",
              "</style>\n",
              "<table border=\"1\" class=\"dataframe\">\n",
              "  <thead>\n",
              "    <tr style=\"text-align: right;\">\n",
              "      <th></th>\n",
              "      <th>id</th>\n",
              "      <th>name</th>\n",
              "      <th>age</th>\n",
              "    </tr>\n",
              "  </thead>\n",
              "  <tbody>\n",
              "    <tr>\n",
              "      <th>0</th>\n",
              "      <td>1</td>\n",
              "      <td>Akram</td>\n",
              "      <td>23</td>\n",
              "    </tr>\n",
              "    <tr>\n",
              "      <th>1</th>\n",
              "      <td>2</td>\n",
              "      <td>hamdi</td>\n",
              "      <td>24</td>\n",
              "    </tr>\n",
              "    <tr>\n",
              "      <th>2</th>\n",
              "      <td>101</td>\n",
              "      <td>Ali ben salah</td>\n",
              "      <td>22</td>\n",
              "    </tr>\n",
              "  </tbody>\n",
              "</table>\n",
              "</div>"
            ],
            "text/plain": [
              "    id           name  age\n",
              "0    1          Akram   23\n",
              "1    2          hamdi   24\n",
              "2  101  Ali ben salah   22"
            ]
          },
          "execution_count": 9,
          "metadata": {},
          "output_type": "execute_result"
        }
      ],
      "source": [
        "df7=pd.read_sql_query(\"SELECT id, name, age FROM users\",conn)\n",
        "df7"
      ]
    },
    {
      "cell_type": "code",
      "execution_count": null,
      "metadata": {
        "id": "LUHPKmSgUg8W"
      },
      "outputs": [],
      "source": []
    }
  ],
  "metadata": {
    "kernelspec": {
      "display_name": "Python 3",
      "language": "python",
      "name": "python3"
    },
    "language_info": {
      "codemirror_mode": {
        "name": "ipython",
        "version": 3
      },
      "file_extension": ".py",
      "mimetype": "text/x-python",
      "name": "python",
      "nbconvert_exporter": "python",
      "pygments_lexer": "ipython3",
      "version": "3.8.5"
    },
    "colab": {
      "provenance": [],
      "include_colab_link": true
    }
  },
  "nbformat": 4,
  "nbformat_minor": 0
}