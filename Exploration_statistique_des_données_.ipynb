{
  "cells": [
    {
      "cell_type": "markdown",
      "metadata": {
        "id": "view-in-github",
        "colab_type": "text"
      },
      "source": [
        "<a href=\"https://colab.research.google.com/github/chaima-mehri/DataScience_TP/blob/main/Exploration_statistique_des_donn%C3%A9es_.ipynb\" target=\"_parent\"><img src=\"https://colab.research.google.com/assets/colab-badge.svg\" alt=\"Open In Colab\"/></a>"
      ]
    },
    {
      "cell_type": "code",
      "execution_count": null,
      "metadata": {
        "id": "ioK8IetzGtd4",
        "outputId": "06aa5159-e2b9-419c-a341-97a367355bae"
      },
      "outputs": [
        {
          "data": {
            "text/html": [
              "<div>\n",
              "<style scoped>\n",
              "    .dataframe tbody tr th:only-of-type {\n",
              "        vertical-align: middle;\n",
              "    }\n",
              "\n",
              "    .dataframe tbody tr th {\n",
              "        vertical-align: top;\n",
              "    }\n",
              "\n",
              "    .dataframe thead th {\n",
              "        text-align: right;\n",
              "    }\n",
              "</style>\n",
              "<table border=\"1\" class=\"dataframe\">\n",
              "  <thead>\n",
              "    <tr style=\"text-align: right;\">\n",
              "      <th></th>\n",
              "      <th>ip</th>\n",
              "      <th>username</th>\n",
              "      <th>date</th>\n",
              "      <th>time</th>\n",
              "      <th>request</th>\n",
              "    </tr>\n",
              "  </thead>\n",
              "  <tbody>\n",
              "    <tr>\n",
              "      <th>0</th>\n",
              "      <td>146.204.224.152</td>\n",
              "      <td>feest6811</td>\n",
              "      <td>21/Jun/2019</td>\n",
              "      <td>15:45:24 -0700</td>\n",
              "      <td>POST /incentivize HTTP/1.1</td>\n",
              "    </tr>\n",
              "    <tr>\n",
              "      <th>1</th>\n",
              "      <td>197.109.77.178</td>\n",
              "      <td>kertzmann3129</td>\n",
              "      <td>21/Jun/2019</td>\n",
              "      <td>15:45:25 -0700</td>\n",
              "      <td>DELETE /virtual/solutions/target/web+services ...</td>\n",
              "    </tr>\n",
              "    <tr>\n",
              "      <th>2</th>\n",
              "      <td>156.127.178.177</td>\n",
              "      <td>okuneva5222</td>\n",
              "      <td>21/Jun/2019</td>\n",
              "      <td>15:45:27 -0700</td>\n",
              "      <td>DELETE /interactive/transparent/niches/revolut...</td>\n",
              "    </tr>\n",
              "    <tr>\n",
              "      <th>3</th>\n",
              "      <td>100.32.205.59</td>\n",
              "      <td>ortiz8891</td>\n",
              "      <td>21/Jun/2019</td>\n",
              "      <td>15:45:28 -0700</td>\n",
              "      <td>PATCH /architectures HTTP/1.0</td>\n",
              "    </tr>\n",
              "    <tr>\n",
              "      <th>4</th>\n",
              "      <td>168.95.156.240</td>\n",
              "      <td>stark2413</td>\n",
              "      <td>21/Jun/2019</td>\n",
              "      <td>15:45:31 -0700</td>\n",
              "      <td>GET /engage HTTP/2.0</td>\n",
              "    </tr>\n",
              "    <tr>\n",
              "      <th>...</th>\n",
              "      <td>...</td>\n",
              "      <td>...</td>\n",
              "      <td>...</td>\n",
              "      <td>...</td>\n",
              "      <td>...</td>\n",
              "    </tr>\n",
              "    <tr>\n",
              "      <th>974</th>\n",
              "      <td>135.186.69.192</td>\n",
              "      <td>***</td>\n",
              "      <td>21/Jun/2019</td>\n",
              "      <td>16:01:58 -0700</td>\n",
              "      <td>PATCH /best-of-breed HTTP/1.1</td>\n",
              "    </tr>\n",
              "    <tr>\n",
              "      <th>975</th>\n",
              "      <td>32.86.3.51</td>\n",
              "      <td>***</td>\n",
              "      <td>21/Jun/2019</td>\n",
              "      <td>16:01:59 -0700</td>\n",
              "      <td>GET /optimize/impactful/sexy/channels HTTP/2.0</td>\n",
              "    </tr>\n",
              "    <tr>\n",
              "      <th>976</th>\n",
              "      <td>176.68.62.252</td>\n",
              "      <td>turner3261</td>\n",
              "      <td>21/Jun/2019</td>\n",
              "      <td>16:02:00 -0700</td>\n",
              "      <td>GET /viral HTTP/1.1</td>\n",
              "    </tr>\n",
              "    <tr>\n",
              "      <th>977</th>\n",
              "      <td>35.86.149.61</td>\n",
              "      <td>zemlak6334</td>\n",
              "      <td>21/Jun/2019</td>\n",
              "      <td>16:02:01 -0700</td>\n",
              "      <td>HEAD /incentivize HTTP/2.0</td>\n",
              "    </tr>\n",
              "    <tr>\n",
              "      <th>978</th>\n",
              "      <td>30.95.91.251</td>\n",
              "      <td>larson8319</td>\n",
              "      <td>21/Jun/2019</td>\n",
              "      <td>16:02:02 -0700</td>\n",
              "      <td>PUT /one-to-one/whiteboard HTTP/1.0</td>\n",
              "    </tr>\n",
              "  </tbody>\n",
              "</table>\n",
              "<p>979 rows × 5 columns</p>\n",
              "</div>"
            ],
            "text/plain": [
              "                  ip       username         date            time  \\\n",
              "0    146.204.224.152      feest6811  21/Jun/2019  15:45:24 -0700   \n",
              "1     197.109.77.178  kertzmann3129  21/Jun/2019  15:45:25 -0700   \n",
              "2    156.127.178.177    okuneva5222  21/Jun/2019  15:45:27 -0700   \n",
              "3      100.32.205.59      ortiz8891  21/Jun/2019  15:45:28 -0700   \n",
              "4     168.95.156.240      stark2413  21/Jun/2019  15:45:31 -0700   \n",
              "..               ...            ...          ...             ...   \n",
              "974   135.186.69.192            ***  21/Jun/2019  16:01:58 -0700   \n",
              "975       32.86.3.51            ***  21/Jun/2019  16:01:59 -0700   \n",
              "976    176.68.62.252     turner3261  21/Jun/2019  16:02:00 -0700   \n",
              "977     35.86.149.61     zemlak6334  21/Jun/2019  16:02:01 -0700   \n",
              "978     30.95.91.251     larson8319  21/Jun/2019  16:02:02 -0700   \n",
              "\n",
              "                                               request  \n",
              "0                           POST /incentivize HTTP/1.1  \n",
              "1    DELETE /virtual/solutions/target/web+services ...  \n",
              "2    DELETE /interactive/transparent/niches/revolut...  \n",
              "3                        PATCH /architectures HTTP/1.0  \n",
              "4                                 GET /engage HTTP/2.0  \n",
              "..                                                 ...  \n",
              "974                      PATCH /best-of-breed HTTP/1.1  \n",
              "975     GET /optimize/impactful/sexy/channels HTTP/2.0  \n",
              "976                                GET /viral HTTP/1.1  \n",
              "977                         HEAD /incentivize HTTP/2.0  \n",
              "978                PUT /one-to-one/whiteboard HTTP/1.0  \n",
              "\n",
              "[979 rows x 5 columns]"
            ]
          },
          "execution_count": 1,
          "metadata": {},
          "output_type": "execute_result"
        }
      ],
      "source": [
        "#import de la bibliothèque pandas\n",
        "import pandas  as pd\n",
        "#lecture à partir d'un fichier csv\n",
        "df=pd.read_csv('Downloads\\Exploration_statistique_example.csv', sep=';')\n",
        "#affichage\n",
        "df"
      ]
    },
    {
      "cell_type": "code",
      "execution_count": null,
      "metadata": {
        "id": "Nx-NHHSxGtd7",
        "outputId": "2c0969df-b62c-4c78-8617-cd51ae6555d6"
      },
      "outputs": [
        {
          "data": {
            "text/plain": [
              "False"
            ]
          },
          "execution_count": 5,
          "metadata": {},
          "output_type": "execute_result"
        }
      ],
      "source": [
        "#Is it empty?\n",
        "df.empty"
      ]
    },
    {
      "cell_type": "code",
      "execution_count": null,
      "metadata": {
        "id": "eopymtNZGtd8",
        "outputId": "b3e50a78-4a92-4285-b183-2fce5e712cfb"
      },
      "outputs": [
        {
          "data": {
            "text/plain": [
              "(979, 5)"
            ]
          },
          "execution_count": 7,
          "metadata": {},
          "output_type": "execute_result"
        }
      ],
      "source": [
        "#Afficher la taille du tableau\n",
        "df.shape"
      ]
    },
    {
      "cell_type": "code",
      "execution_count": null,
      "metadata": {
        "id": "wqLLLGjLGtd8",
        "outputId": "1a3ec785-8189-488a-e795-c5fb888e21d4"
      },
      "outputs": [
        {
          "data": {
            "text/plain": [
              "Index(['ip', 'username', 'date', 'time', 'request'], dtype='object')"
            ]
          },
          "execution_count": 8,
          "metadata": {},
          "output_type": "execute_result"
        }
      ],
      "source": [
        "#Le titre des colonnes\n",
        "df.columns"
      ]
    },
    {
      "cell_type": "code",
      "execution_count": null,
      "metadata": {
        "id": "UK-wR-e2Gtd9",
        "outputId": "f7197a74-004b-4e8c-bc9f-7209c991f024"
      },
      "outputs": [
        {
          "data": {
            "text/plain": [
              "979"
            ]
          },
          "execution_count": 2,
          "metadata": {},
          "output_type": "execute_result"
        }
      ],
      "source": [
        "#Le nombre de lignes:\n",
        "len(df)"
      ]
    },
    {
      "cell_type": "code",
      "execution_count": null,
      "metadata": {
        "id": "KasQHeZqGtd9",
        "outputId": "b9f6fd35-5d5b-4476-baf4-5401e57a85cc"
      },
      "outputs": [
        {
          "name": "stdout",
          "output_type": "stream",
          "text": [
            "<class 'pandas.core.frame.DataFrame'>\n",
            "RangeIndex: 979 entries, 0 to 978\n",
            "Data columns (total 5 columns):\n",
            " #   Column    Non-Null Count  Dtype \n",
            "---  ------    --------------  ----- \n",
            " 0   ip        979 non-null    object\n",
            " 1   username  979 non-null    object\n",
            " 2   date      979 non-null    object\n",
            " 3   time      979 non-null    object\n",
            " 4   request   979 non-null    object\n",
            "dtypes: object(5)\n",
            "memory usage: 38.4+ KB\n"
          ]
        }
      ],
      "source": [
        "#Des informations générales\n",
        "df.info()"
      ]
    },
    {
      "cell_type": "code",
      "execution_count": null,
      "metadata": {
        "id": "InZF8kY9Gtd9",
        "outputId": "1b927c52-fd5d-413a-af8f-d70c4e3a39b7"
      },
      "outputs": [
        {
          "data": {
            "text/html": [
              "<div>\n",
              "<style scoped>\n",
              "    .dataframe tbody tr th:only-of-type {\n",
              "        vertical-align: middle;\n",
              "    }\n",
              "\n",
              "    .dataframe tbody tr th {\n",
              "        vertical-align: top;\n",
              "    }\n",
              "\n",
              "    .dataframe thead th {\n",
              "        text-align: right;\n",
              "    }\n",
              "</style>\n",
              "<table border=\"1\" class=\"dataframe\">\n",
              "  <thead>\n",
              "    <tr style=\"text-align: right;\">\n",
              "      <th></th>\n",
              "      <th>ip</th>\n",
              "      <th>username</th>\n",
              "      <th>date</th>\n",
              "      <th>time</th>\n",
              "      <th>request</th>\n",
              "    </tr>\n",
              "  </thead>\n",
              "  <tbody>\n",
              "    <tr>\n",
              "      <th>count</th>\n",
              "      <td>979</td>\n",
              "      <td>979</td>\n",
              "      <td>979</td>\n",
              "      <td>979</td>\n",
              "      <td>979</td>\n",
              "    </tr>\n",
              "    <tr>\n",
              "      <th>unique</th>\n",
              "      <td>979</td>\n",
              "      <td>502</td>\n",
              "      <td>1</td>\n",
              "      <td>979</td>\n",
              "      <td>974</td>\n",
              "    </tr>\n",
              "    <tr>\n",
              "      <th>top</th>\n",
              "      <td>196.95.163.236</td>\n",
              "      <td>***</td>\n",
              "      <td>21/Jun/2019</td>\n",
              "      <td>15:55:35 -0700</td>\n",
              "      <td>PATCH /architectures HTTP/1.0</td>\n",
              "    </tr>\n",
              "    <tr>\n",
              "      <th>freq</th>\n",
              "      <td>1</td>\n",
              "      <td>478</td>\n",
              "      <td>979</td>\n",
              "      <td>1</td>\n",
              "      <td>2</td>\n",
              "    </tr>\n",
              "  </tbody>\n",
              "</table>\n",
              "</div>"
            ],
            "text/plain": [
              "                    ip username         date            time  \\\n",
              "count              979      979          979             979   \n",
              "unique             979      502            1             979   \n",
              "top     196.95.163.236      ***  21/Jun/2019  15:55:35 -0700   \n",
              "freq                 1      478          979               1   \n",
              "\n",
              "                              request  \n",
              "count                             979  \n",
              "unique                            974  \n",
              "top     PATCH /architectures HTTP/1.0  \n",
              "freq                                2  "
            ]
          },
          "execution_count": 4,
          "metadata": {},
          "output_type": "execute_result"
        }
      ],
      "source": [
        "#Un résumé des statistiques principales\n",
        "df.describe()"
      ]
    },
    {
      "cell_type": "code",
      "execution_count": null,
      "metadata": {
        "id": "Izq0NVY3Gtd9",
        "outputId": "6f77dec5-8ef0-4259-aa60-9b15aa7a584e"
      },
      "outputs": [
        {
          "data": {
            "text/html": [
              "<div>\n",
              "<style scoped>\n",
              "    .dataframe tbody tr th:only-of-type {\n",
              "        vertical-align: middle;\n",
              "    }\n",
              "\n",
              "    .dataframe tbody tr th {\n",
              "        vertical-align: top;\n",
              "    }\n",
              "\n",
              "    .dataframe thead th {\n",
              "        text-align: right;\n",
              "    }\n",
              "</style>\n",
              "<table border=\"1\" class=\"dataframe\">\n",
              "  <thead>\n",
              "    <tr style=\"text-align: right;\">\n",
              "      <th></th>\n",
              "      <th>ip</th>\n",
              "      <th>username</th>\n",
              "      <th>date</th>\n",
              "      <th>time</th>\n",
              "      <th>request</th>\n",
              "    </tr>\n",
              "  </thead>\n",
              "  <tbody>\n",
              "    <tr>\n",
              "      <th>0</th>\n",
              "      <td>146.204.224.152</td>\n",
              "      <td>feest6811</td>\n",
              "      <td>21/Jun/2019</td>\n",
              "      <td>15:45:24 -0700</td>\n",
              "      <td>POST /incentivize HTTP/1.1</td>\n",
              "    </tr>\n",
              "    <tr>\n",
              "      <th>1</th>\n",
              "      <td>197.109.77.178</td>\n",
              "      <td>kertzmann3129</td>\n",
              "      <td>21/Jun/2019</td>\n",
              "      <td>15:45:25 -0700</td>\n",
              "      <td>DELETE /virtual/solutions/target/web+services ...</td>\n",
              "    </tr>\n",
              "    <tr>\n",
              "      <th>2</th>\n",
              "      <td>156.127.178.177</td>\n",
              "      <td>okuneva5222</td>\n",
              "      <td>21/Jun/2019</td>\n",
              "      <td>15:45:27 -0700</td>\n",
              "      <td>DELETE /interactive/transparent/niches/revolut...</td>\n",
              "    </tr>\n",
              "    <tr>\n",
              "      <th>3</th>\n",
              "      <td>100.32.205.59</td>\n",
              "      <td>ortiz8891</td>\n",
              "      <td>21/Jun/2019</td>\n",
              "      <td>15:45:28 -0700</td>\n",
              "      <td>PATCH /architectures HTTP/1.0</td>\n",
              "    </tr>\n",
              "    <tr>\n",
              "      <th>4</th>\n",
              "      <td>168.95.156.240</td>\n",
              "      <td>stark2413</td>\n",
              "      <td>21/Jun/2019</td>\n",
              "      <td>15:45:31 -0700</td>\n",
              "      <td>GET /engage HTTP/2.0</td>\n",
              "    </tr>\n",
              "    <tr>\n",
              "      <th>5</th>\n",
              "      <td>71.172.239.195</td>\n",
              "      <td>dooley1853</td>\n",
              "      <td>21/Jun/2019</td>\n",
              "      <td>15:45:32 -0700</td>\n",
              "      <td>PUT /cutting-edge HTTP/2.0</td>\n",
              "    </tr>\n",
              "    <tr>\n",
              "      <th>6</th>\n",
              "      <td>180.95.121.94</td>\n",
              "      <td>mohr6893</td>\n",
              "      <td>21/Jun/2019</td>\n",
              "      <td>15:45:34 -0700</td>\n",
              "      <td>PATCH /extensible/reinvent HTTP/1.1</td>\n",
              "    </tr>\n",
              "    <tr>\n",
              "      <th>7</th>\n",
              "      <td>144.23.247.108</td>\n",
              "      <td>auer7552</td>\n",
              "      <td>21/Jun/2019</td>\n",
              "      <td>15:45:35 -0700</td>\n",
              "      <td>POST /extensible/infrastructures/one-to-one/en...</td>\n",
              "    </tr>\n",
              "    <tr>\n",
              "      <th>8</th>\n",
              "      <td>2.179.103.97</td>\n",
              "      <td>lind8584</td>\n",
              "      <td>21/Jun/2019</td>\n",
              "      <td>15:45:36 -0700</td>\n",
              "      <td>POST /grow/front-end/e-commerce/robust HTTP/2.0</td>\n",
              "    </tr>\n",
              "    <tr>\n",
              "      <th>9</th>\n",
              "      <td>241.114.184.133</td>\n",
              "      <td>tromp8355</td>\n",
              "      <td>21/Jun/2019</td>\n",
              "      <td>15:45:37 -0700</td>\n",
              "      <td>GET /redefine/orchestrate HTTP/1.0</td>\n",
              "    </tr>\n",
              "    <tr>\n",
              "      <th>10</th>\n",
              "      <td>224.188.38.4</td>\n",
              "      <td>keebler1423</td>\n",
              "      <td>21/Jun/2019</td>\n",
              "      <td>15:45:40 -0700</td>\n",
              "      <td>PUT /orchestrate/out-of-the-box/unleash/syndic...</td>\n",
              "    </tr>\n",
              "    <tr>\n",
              "      <th>11</th>\n",
              "      <td>94.11.36.112</td>\n",
              "      <td>klein8508</td>\n",
              "      <td>21/Jun/2019</td>\n",
              "      <td>15:45:41 -0700</td>\n",
              "      <td>POST /enhance/solutions/bricks-and-clicks HTTP...</td>\n",
              "    </tr>\n",
              "    <tr>\n",
              "      <th>12</th>\n",
              "      <td>126.196.238.197</td>\n",
              "      <td>gusikowski9864</td>\n",
              "      <td>21/Jun/2019</td>\n",
              "      <td>15:45:45 -0700</td>\n",
              "      <td>DELETE /rich/reinvent HTTP/2.0</td>\n",
              "    </tr>\n",
              "    <tr>\n",
              "      <th>13</th>\n",
              "      <td>103.247.168.212</td>\n",
              "      <td>medhurst2732</td>\n",
              "      <td>21/Jun/2019</td>\n",
              "      <td>15:45:49 -0700</td>\n",
              "      <td>HEAD /scale/global/leverage HTTP/1.0</td>\n",
              "    </tr>\n",
              "    <tr>\n",
              "      <th>14</th>\n",
              "      <td>57.86.153.68</td>\n",
              "      <td>dubuque8645</td>\n",
              "      <td>21/Jun/2019</td>\n",
              "      <td>15:45:50 -0700</td>\n",
              "      <td>POST /innovative/roi/robust/systems HTTP/1.1</td>\n",
              "    </tr>\n",
              "    <tr>\n",
              "      <th>15</th>\n",
              "      <td>231.220.8.214</td>\n",
              "      <td>luettgen1860</td>\n",
              "      <td>21/Jun/2019</td>\n",
              "      <td>15:45:52 -0700</td>\n",
              "      <td>HEAD /systems/sexy HTTP/1.1</td>\n",
              "    </tr>\n",
              "    <tr>\n",
              "      <th>16</th>\n",
              "      <td>219.133.7.154</td>\n",
              "      <td>price5585</td>\n",
              "      <td>21/Jun/2019</td>\n",
              "      <td>15:45:53 -0700</td>\n",
              "      <td>GET /incubate/incubate HTTP/1.1</td>\n",
              "    </tr>\n",
              "    <tr>\n",
              "      <th>17</th>\n",
              "      <td>159.252.184.44</td>\n",
              "      <td>fay7852</td>\n",
              "      <td>21/Jun/2019</td>\n",
              "      <td>15:45:54 -0700</td>\n",
              "      <td>GET /convergence HTTP/2.0</td>\n",
              "    </tr>\n",
              "    <tr>\n",
              "      <th>18</th>\n",
              "      <td>40.167.172.66</td>\n",
              "      <td>kshlerin3090</td>\n",
              "      <td>21/Jun/2019</td>\n",
              "      <td>15:45:57 -0700</td>\n",
              "      <td>HEAD /convergence HTTP/2.0</td>\n",
              "    </tr>\n",
              "    <tr>\n",
              "      <th>19</th>\n",
              "      <td>167.153.239.72</td>\n",
              "      <td>schaden8853</td>\n",
              "      <td>21/Jun/2019</td>\n",
              "      <td>15:45:58 -0700</td>\n",
              "      <td>DELETE /bandwidth/reintermediate/engage HTTP/2.0</td>\n",
              "    </tr>\n",
              "  </tbody>\n",
              "</table>\n",
              "</div>"
            ],
            "text/plain": [
              "                 ip        username         date            time  \\\n",
              "0   146.204.224.152       feest6811  21/Jun/2019  15:45:24 -0700   \n",
              "1    197.109.77.178   kertzmann3129  21/Jun/2019  15:45:25 -0700   \n",
              "2   156.127.178.177     okuneva5222  21/Jun/2019  15:45:27 -0700   \n",
              "3     100.32.205.59       ortiz8891  21/Jun/2019  15:45:28 -0700   \n",
              "4    168.95.156.240       stark2413  21/Jun/2019  15:45:31 -0700   \n",
              "5    71.172.239.195      dooley1853  21/Jun/2019  15:45:32 -0700   \n",
              "6     180.95.121.94        mohr6893  21/Jun/2019  15:45:34 -0700   \n",
              "7    144.23.247.108        auer7552  21/Jun/2019  15:45:35 -0700   \n",
              "8      2.179.103.97        lind8584  21/Jun/2019  15:45:36 -0700   \n",
              "9   241.114.184.133       tromp8355  21/Jun/2019  15:45:37 -0700   \n",
              "10     224.188.38.4     keebler1423  21/Jun/2019  15:45:40 -0700   \n",
              "11     94.11.36.112       klein8508  21/Jun/2019  15:45:41 -0700   \n",
              "12  126.196.238.197  gusikowski9864  21/Jun/2019  15:45:45 -0700   \n",
              "13  103.247.168.212    medhurst2732  21/Jun/2019  15:45:49 -0700   \n",
              "14     57.86.153.68     dubuque8645  21/Jun/2019  15:45:50 -0700   \n",
              "15    231.220.8.214    luettgen1860  21/Jun/2019  15:45:52 -0700   \n",
              "16    219.133.7.154       price5585  21/Jun/2019  15:45:53 -0700   \n",
              "17   159.252.184.44         fay7852  21/Jun/2019  15:45:54 -0700   \n",
              "18    40.167.172.66    kshlerin3090  21/Jun/2019  15:45:57 -0700   \n",
              "19   167.153.239.72     schaden8853  21/Jun/2019  15:45:58 -0700   \n",
              "\n",
              "                                              request  \n",
              "0                          POST /incentivize HTTP/1.1  \n",
              "1   DELETE /virtual/solutions/target/web+services ...  \n",
              "2   DELETE /interactive/transparent/niches/revolut...  \n",
              "3                       PATCH /architectures HTTP/1.0  \n",
              "4                                GET /engage HTTP/2.0  \n",
              "5                          PUT /cutting-edge HTTP/2.0  \n",
              "6                 PATCH /extensible/reinvent HTTP/1.1  \n",
              "7   POST /extensible/infrastructures/one-to-one/en...  \n",
              "8     POST /grow/front-end/e-commerce/robust HTTP/2.0  \n",
              "9                  GET /redefine/orchestrate HTTP/1.0  \n",
              "10  PUT /orchestrate/out-of-the-box/unleash/syndic...  \n",
              "11  POST /enhance/solutions/bricks-and-clicks HTTP...  \n",
              "12                     DELETE /rich/reinvent HTTP/2.0  \n",
              "13               HEAD /scale/global/leverage HTTP/1.0  \n",
              "14       POST /innovative/roi/robust/systems HTTP/1.1  \n",
              "15                        HEAD /systems/sexy HTTP/1.1  \n",
              "16                    GET /incubate/incubate HTTP/1.1  \n",
              "17                          GET /convergence HTTP/2.0  \n",
              "18                         HEAD /convergence HTTP/2.0  \n",
              "19   DELETE /bandwidth/reintermediate/engage HTTP/2.0  "
            ]
          },
          "execution_count": 5,
          "metadata": {},
          "output_type": "execute_result"
        }
      ],
      "source": [
        "#Voir les rangs à partir du haut avec la tête\n",
        "df.head(20)"
      ]
    },
    {
      "cell_type": "code",
      "execution_count": null,
      "metadata": {
        "id": "0eaBZvC7Gtd-",
        "outputId": "dc928a72-9965-4cea-b85c-ffa455ee8cb4"
      },
      "outputs": [
        {
          "data": {
            "text/html": [
              "<div>\n",
              "<style scoped>\n",
              "    .dataframe tbody tr th:only-of-type {\n",
              "        vertical-align: middle;\n",
              "    }\n",
              "\n",
              "    .dataframe tbody tr th {\n",
              "        vertical-align: top;\n",
              "    }\n",
              "\n",
              "    .dataframe thead th {\n",
              "        text-align: right;\n",
              "    }\n",
              "</style>\n",
              "<table border=\"1\" class=\"dataframe\">\n",
              "  <thead>\n",
              "    <tr style=\"text-align: right;\">\n",
              "      <th></th>\n",
              "      <th>ip</th>\n",
              "      <th>username</th>\n",
              "      <th>date</th>\n",
              "      <th>time</th>\n",
              "      <th>request</th>\n",
              "    </tr>\n",
              "  </thead>\n",
              "  <tbody>\n",
              "    <tr>\n",
              "      <th>977</th>\n",
              "      <td>35.86.149.61</td>\n",
              "      <td>zemlak6334</td>\n",
              "      <td>21/Jun/2019</td>\n",
              "      <td>16:02:01 -0700</td>\n",
              "      <td>HEAD /incentivize HTTP/2.0</td>\n",
              "    </tr>\n",
              "    <tr>\n",
              "      <th>978</th>\n",
              "      <td>30.95.91.251</td>\n",
              "      <td>larson8319</td>\n",
              "      <td>21/Jun/2019</td>\n",
              "      <td>16:02:02 -0700</td>\n",
              "      <td>PUT /one-to-one/whiteboard HTTP/1.0</td>\n",
              "    </tr>\n",
              "  </tbody>\n",
              "</table>\n",
              "</div>"
            ],
            "text/plain": [
              "               ip    username         date            time  \\\n",
              "977  35.86.149.61  zemlak6334  21/Jun/2019  16:02:01 -0700   \n",
              "978  30.95.91.251  larson8319  21/Jun/2019  16:02:02 -0700   \n",
              "\n",
              "                                 request  \n",
              "977           HEAD /incentivize HTTP/2.0  \n",
              "978  PUT /one-to-one/whiteboard HTTP/1.0  "
            ]
          },
          "execution_count": 10,
          "metadata": {},
          "output_type": "execute_result"
        }
      ],
      "source": [
        "#Visualisez les lignes à partir du bas avec tail(). Visualisons 2 lignes :\n",
        "df.tail(2)"
      ]
    },
    {
      "cell_type": "code",
      "execution_count": null,
      "metadata": {
        "id": "urklNjeoGtd-"
      },
      "outputs": [],
      "source": []
    }
  ],
  "metadata": {
    "kernelspec": {
      "display_name": "Python 3",
      "language": "python",
      "name": "python3"
    },
    "language_info": {
      "codemirror_mode": {
        "name": "ipython",
        "version": 3
      },
      "file_extension": ".py",
      "mimetype": "text/x-python",
      "name": "python",
      "nbconvert_exporter": "python",
      "pygments_lexer": "ipython3",
      "version": "3.8.5"
    },
    "colab": {
      "provenance": [],
      "include_colab_link": true
    }
  },
  "nbformat": 4,
  "nbformat_minor": 0
}